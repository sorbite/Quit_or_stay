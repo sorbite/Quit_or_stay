{
 "cells": [
  {
   "cell_type": "markdown",
   "metadata": {},
   "source": [
    "# Quit or stay?\n",
    "## Goal\n",
    "\n",
    "You belong to the people analytics team for a food conglomerate. Employee turnover has been rampant for your 10 subsidiaries. The CFO estimates that the cost of replacing an employee is often larger than 100K USD, taking into account the time spent to interview and find a replacement, placement fees, sign-on bonuses and the loss of productivity for several months.\n",
    "\n",
    "Your team has been tasked with diagnosing why and when employees from your subsidiaries leave. You need a tangible data-driven recommendation for each of the ten Presidents of your subsidiaries. What are your recommendations and why?\n",
    "## Details\n",
    "\n",
    "We got employee data from a few companies. We have data about all employees who joined from 2011/01/24 to 2015/12/13. For each employee, we also know if they are still at the company as of 2015/12/13 or they have quit. Beside that, we have general info about the employee, such as average salary during her tenure, department, and years of experience. As said above, the goal is to predict employee retention and understand its main drivers\n",
    "Data\n",
    "\n",
    "## Approches\n",
    "\n",
    "* Logistic Regression Classifier\n",
    "* Random Forest Classifier\n",
    "* XGBoost based classifier\n",
    "* T-testing\n",
    "\n",
    "\n",
    "\n",
    "## Data fields:\n",
    "\n",
    "    * employee_id : id of the employee (unique by employee per company)\n",
    "    * company_id : company id\n",
    "    * dept : employee department\n",
    "    * seniority : number of yrs of work experience when hired\n",
    "    * salary: average yearly salary of the employee during her tenure within the company\n",
    "    * join_date: when the employee joined the company, it can only be between 2011/01/24 and 2015/12/13\n",
    "    * quit_date: when the employee left her job (if she is still employed as of 2015/12/13, this field is NA)\n",
    "\n"
   ]
  },
  {
   "cell_type": "markdown",
   "metadata": {},
   "source": [
    "# 1. EDA"
   ]
  },
  {
   "cell_type": "code",
   "execution_count": 1,
   "metadata": {},
   "outputs": [],
   "source": [
    "import pandas as pd\n",
    "import numpy as np"
   ]
  },
  {
   "cell_type": "code",
   "execution_count": 2,
   "metadata": {},
   "outputs": [],
   "source": [
    "df = pd.read_csv('employee_retention.txt', sep=',', index_col=0)"
   ]
  },
  {
   "cell_type": "code",
   "execution_count": 3,
   "metadata": {},
   "outputs": [
    {
     "data": {
      "text/html": [
       "<div>\n",
       "<style scoped>\n",
       "    .dataframe tbody tr th:only-of-type {\n",
       "        vertical-align: middle;\n",
       "    }\n",
       "\n",
       "    .dataframe tbody tr th {\n",
       "        vertical-align: top;\n",
       "    }\n",
       "\n",
       "    .dataframe thead th {\n",
       "        text-align: right;\n",
       "    }\n",
       "</style>\n",
       "<table border=\"1\" class=\"dataframe\">\n",
       "  <thead>\n",
       "    <tr style=\"text-align: right;\">\n",
       "      <th></th>\n",
       "      <th>employee_id</th>\n",
       "      <th>company_id</th>\n",
       "      <th>dept</th>\n",
       "      <th>seniority</th>\n",
       "      <th>salary</th>\n",
       "      <th>join_date</th>\n",
       "      <th>quit_date</th>\n",
       "    </tr>\n",
       "  </thead>\n",
       "  <tbody>\n",
       "    <tr>\n",
       "      <th>0</th>\n",
       "      <td>1001444.0</td>\n",
       "      <td>8</td>\n",
       "      <td>temp_contractor</td>\n",
       "      <td>0</td>\n",
       "      <td>5850.0</td>\n",
       "      <td>2008-01-26</td>\n",
       "      <td>2008-04-25</td>\n",
       "    </tr>\n",
       "    <tr>\n",
       "      <th>1</th>\n",
       "      <td>388804.0</td>\n",
       "      <td>8</td>\n",
       "      <td>design</td>\n",
       "      <td>21</td>\n",
       "      <td>191000.0</td>\n",
       "      <td>05.17.2011</td>\n",
       "      <td>2012-03-16</td>\n",
       "    </tr>\n",
       "    <tr>\n",
       "      <th>2</th>\n",
       "      <td>407990.0</td>\n",
       "      <td>3</td>\n",
       "      <td>design</td>\n",
       "      <td>9</td>\n",
       "      <td>90000.0</td>\n",
       "      <td>2012-03-26</td>\n",
       "      <td>2015-04-10</td>\n",
       "    </tr>\n",
       "    <tr>\n",
       "      <th>3</th>\n",
       "      <td>120657.0</td>\n",
       "      <td>2</td>\n",
       "      <td>engineer</td>\n",
       "      <td>20</td>\n",
       "      <td>298000.0</td>\n",
       "      <td>2013-04-08</td>\n",
       "      <td>2015-01-30</td>\n",
       "    </tr>\n",
       "    <tr>\n",
       "      <th>4</th>\n",
       "      <td>1006393.0</td>\n",
       "      <td>1</td>\n",
       "      <td>temp_contractor</td>\n",
       "      <td>0</td>\n",
       "      <td>8509.0</td>\n",
       "      <td>2008-07-20</td>\n",
       "      <td>2008-10-18</td>\n",
       "    </tr>\n",
       "  </tbody>\n",
       "</table>\n",
       "</div>"
      ],
      "text/plain": [
       "   employee_id  company_id             dept  seniority    salary   join_date  \\\n",
       "0    1001444.0           8  temp_contractor          0    5850.0  2008-01-26   \n",
       "1     388804.0           8           design         21  191000.0  05.17.2011   \n",
       "2     407990.0           3           design          9   90000.0  2012-03-26   \n",
       "3     120657.0           2         engineer         20  298000.0  2013-04-08   \n",
       "4    1006393.0           1  temp_contractor          0    8509.0  2008-07-20   \n",
       "\n",
       "    quit_date  \n",
       "0  2008-04-25  \n",
       "1  2012-03-16  \n",
       "2  2015-04-10  \n",
       "3  2015-01-30  \n",
       "4  2008-10-18  "
      ]
     },
     "execution_count": 3,
     "metadata": {},
     "output_type": "execute_result"
    }
   ],
   "source": [
    "df.head()"
   ]
  },
  {
   "cell_type": "markdown",
   "metadata": {},
   "source": [
    "## 1.1 Check how many employees for each companies"
   ]
  },
  {
   "cell_type": "code",
   "execution_count": 4,
   "metadata": {},
   "outputs": [
    {
     "data": {
      "text/plain": [
       "1     9501\n",
       "2     5220\n",
       "3     3773\n",
       "4     3066\n",
       "5     2749\n",
       "6     2258\n",
       "7     2185\n",
       "8     2026\n",
       "9     2005\n",
       "10    1879\n",
       "12      24\n",
       "11      16\n",
       "Name: company_id, dtype: int64"
      ]
     },
     "execution_count": 4,
     "metadata": {},
     "output_type": "execute_result"
    }
   ],
   "source": [
    "df.company_id.value_counts()"
   ]
  },
  {
   "cell_type": "code",
   "execution_count": 5,
   "metadata": {},
   "outputs": [],
   "source": [
    "import matplotlib.pyplot as plt\n",
    "%matplotlib inline"
   ]
  },
  {
   "cell_type": "code",
   "execution_count": 6,
   "metadata": {},
   "outputs": [],
   "source": [
    "def frequent_table(series, fig_title, x_label, y_label, rotate):\n",
    "    series.plot.hist(grid=True, bins=12, rwidth=0.8,\n",
    "                     color='#607c8e')\n",
    "    plt.title(fig_title, fontsize=20)\n",
    "    plt.xlabel(x_label, fontsize=20)\n",
    "    plt.xticks(fontsize=20 ,rotation = rotate)\n",
    "    plt.yticks(fontsize=20)\n",
    "    plt.ylabel(y_label, fontsize=20)\n",
    "    # plt.xlim(xmax=15, xmin=0)\n",
    "    plt.grid(axis='y', alpha=1)"
   ]
  },
  {
   "cell_type": "code",
   "execution_count": 7,
   "metadata": {},
   "outputs": [
    {
     "data": {
      "image/png": "[encoded data removed]",
      "text/plain": [
       "<Figure size 432x288 with 1 Axes>"
      ]
     },
     "metadata": {
      "needs_background": "light"
     },
     "output_type": "display_data"
    }
   ],
   "source": [
    "frequent_table(series = df.company_id, fig_title='company_count', x_label = 'company_id', y_label='Frequency', rotate = 0)"
   ]
  },
  {
   "cell_type": "markdown",
   "metadata": {},
   "source": [
    "* Seems company 11 and 12 are not right. drop the rows."
   ]
  },
  {
   "cell_type": "code",
   "execution_count": 8,
   "metadata": {},
   "outputs": [],
   "source": [
    "df1 = df[(df.company_id != 11) & (df.company_id != 12)]"
   ]
  },
  {
   "cell_type": "code",
   "execution_count": 9,
   "metadata": {},
   "outputs": [
    {
     "data": {
      "text/plain": [
       "1     9501\n",
       "2     5220\n",
       "3     3773\n",
       "4     3066\n",
       "5     2749\n",
       "6     2258\n",
       "7     2185\n",
       "8     2026\n",
       "9     2005\n",
       "10    1879\n",
       "Name: company_id, dtype: int64"
      ]
     },
     "execution_count": 9,
     "metadata": {},
     "output_type": "execute_result"
    }
   ],
   "source": [
    "df1.company_id.value_counts()"
   ]
  },
  {
   "cell_type": "markdown",
   "metadata": {},
   "source": [
    "## 1.2 Check employees in each department"
   ]
  },
  {
   "cell_type": "code",
   "execution_count": 10,
   "metadata": {},
   "outputs": [
    {
     "data": {
      "text/plain": [
       "temp_contractor     10000\n",
       "customer_service     9162\n",
       "engineer             4603\n",
       "data_science         3184\n",
       "sales                3170\n",
       "marketing            3164\n",
       "design               1379\n",
       "Name: dept, dtype: int64"
      ]
     },
     "execution_count": 10,
     "metadata": {},
     "output_type": "execute_result"
    }
   ],
   "source": [
    "df1.dept.value_counts()"
   ]
  },
  {
   "cell_type": "markdown",
   "metadata": {},
   "source": [
    "* We don't need the rows of temp_contractor. Drop it."
   ]
  },
  {
   "cell_type": "code",
   "execution_count": 11,
   "metadata": {},
   "outputs": [],
   "source": [
    "df2 = df1[(df1.dept != 'temp_contractor')]"
   ]
  },
  {
   "cell_type": "code",
   "execution_count": 12,
   "metadata": {},
   "outputs": [
    {
     "data": {
      "text/plain": [
       "customer_service    9162\n",
       "engineer            4603\n",
       "data_science        3184\n",
       "sales               3170\n",
       "marketing           3164\n",
       "design              1379\n",
       "Name: dept, dtype: int64"
      ]
     },
     "execution_count": 12,
     "metadata": {},
     "output_type": "execute_result"
    }
   ],
   "source": [
    "df2.dept.value_counts()"
   ]
  },
  {
   "cell_type": "markdown",
   "metadata": {},
   "source": [
    "* We don't need employee_id column"
   ]
  },
  {
   "cell_type": "code",
   "execution_count": 13,
   "metadata": {},
   "outputs": [],
   "source": [
    "df3 = df2.drop('employee_id', axis = 1)"
   ]
  },
  {
   "cell_type": "markdown",
   "metadata": {},
   "source": [
    "## 1.3 Check employees' salary"
   ]
  },
  {
   "cell_type": "code",
   "execution_count": 14,
   "metadata": {},
   "outputs": [
    {
     "data": {
      "text/plain": [
       "238"
      ]
     },
     "execution_count": 14,
     "metadata": {},
     "output_type": "execute_result"
    }
   ],
   "source": [
    "df3.salary.isnull().sum()"
   ]
  },
  {
   "cell_type": "code",
   "execution_count": 15,
   "metadata": {},
   "outputs": [],
   "source": [
    "df4= df3.copy()"
   ]
  },
  {
   "cell_type": "markdown",
   "metadata": {},
   "source": [
    "* Fill null with mean salary. I use imputation. Missing values were replaced by the mean value of other employees grouped by department and seniority."
   ]
  },
  {
   "cell_type": "code",
   "execution_count": 16,
   "metadata": {},
   "outputs": [],
   "source": [
    "df4.salary = df3.salary.fillna(df3.groupby(['dept', 'seniority'])['salary'].transform(\"mean\"))"
   ]
  },
  {
   "cell_type": "code",
   "execution_count": 17,
   "metadata": {},
   "outputs": [
    {
     "data": {
      "text/plain": [
       "0"
      ]
     },
     "execution_count": 17,
     "metadata": {},
     "output_type": "execute_result"
    }
   ],
   "source": [
    "df4.salary.isnull().sum()"
   ]
  },
  {
   "cell_type": "code",
   "execution_count": 18,
   "metadata": {},
   "outputs": [
    {
     "data": {
      "image/png": "[encoded data removed]",
      "text/plain": [
       "<Figure size 432x288 with 1 Axes>"
      ]
     },
     "metadata": {
      "needs_background": "light"
     },
     "output_type": "display_data"
    }
   ],
   "source": [
    "frequent_table(series = df4.salary, fig_title='Salary distribution', x_label = 'salary', y_label='Frequency', rotate = 90)"
   ]
  },
  {
   "cell_type": "markdown",
   "metadata": {},
   "source": [
    "## 1.4 Check employees' join_data"
   ]
  },
  {
   "cell_type": "code",
   "execution_count": 19,
   "metadata": {},
   "outputs": [
    {
     "data": {
      "text/plain": [
       "1     05.17.2011\n",
       "2     2012-03-26\n",
       "3     2013-04-08\n",
       "5     2014-06-30\n",
       "6     2012-07-02\n",
       "7     12.27.2011\n",
       "8     12.23.2013\n",
       "9     2015-07-01\n",
       "10    2015-08-03\n",
       "11    2011-10-03\n",
       "Name: join_date, dtype: object"
      ]
     },
     "execution_count": 19,
     "metadata": {},
     "output_type": "execute_result"
    }
   ],
   "source": [
    "df4.join_date[:10]"
   ]
  },
  {
   "cell_type": "code",
   "execution_count": 20,
   "metadata": {},
   "outputs": [
    {
     "data": {
      "text/plain": [
       "0"
      ]
     },
     "execution_count": 20,
     "metadata": {},
     "output_type": "execute_result"
    }
   ],
   "source": [
    "df4.join_date.isnull().sum()"
   ]
  },
  {
   "cell_type": "code",
   "execution_count": 21,
   "metadata": {},
   "outputs": [],
   "source": [
    "import datetime as dt"
   ]
  },
  {
   "cell_type": "markdown",
   "metadata": {},
   "source": [
    "* join_date has two formats. assign the columns as DataTime"
   ]
  },
  {
   "cell_type": "code",
   "execution_count": 22,
   "metadata": {},
   "outputs": [],
   "source": [
    "df4['cleaned_join_date'] = df4.join_date.apply(lambda x:dt.datetime.strptime(x,\"%Y-%m-%d\") if '-' in x else dt.datetime.strptime(x,\"%m.%d.%Y\"))"
   ]
  },
  {
   "cell_type": "code",
   "execution_count": 23,
   "metadata": {},
   "outputs": [
    {
     "data": {
      "text/plain": [
       "1    2011-05-17\n",
       "2    2012-03-26\n",
       "3    2013-04-08\n",
       "5    2014-06-30\n",
       "6    2012-07-02\n",
       "7    2011-12-27\n",
       "8    2013-12-23\n",
       "9    2015-07-01\n",
       "10   2015-08-03\n",
       "11   2011-10-03\n",
       "Name: cleaned_join_date, dtype: datetime64[ns]"
      ]
     },
     "execution_count": 23,
     "metadata": {},
     "output_type": "execute_result"
    }
   ],
   "source": [
    "df4.cleaned_join_date.head(10)"
   ]
  },
  {
   "cell_type": "markdown",
   "metadata": {},
   "source": [
    "## 1.5 Check employees' quit_date"
   ]
  },
  {
   "cell_type": "code",
   "execution_count": 24,
   "metadata": {},
   "outputs": [
    {
     "name": "stdout",
     "output_type": "stream",
     "text": [
      "<class 'pandas.core.frame.DataFrame'>\n",
      "Int64Index: 24662 entries, 1 to 34701\n",
      "Data columns (total 7 columns):\n",
      "company_id           24662 non-null int64\n",
      "dept                 24662 non-null object\n",
      "seniority            24662 non-null int64\n",
      "salary               24662 non-null float64\n",
      "join_date            24662 non-null object\n",
      "quit_date            13486 non-null object\n",
      "cleaned_join_date    24662 non-null datetime64[ns]\n",
      "dtypes: datetime64[ns](1), float64(1), int64(2), object(3)\n",
      "memory usage: 1.5+ MB\n"
     ]
    }
   ],
   "source": [
    "df4.info()"
   ]
  },
  {
   "cell_type": "markdown",
   "metadata": {},
   "source": [
    "* Seperate staying and quited emplyee first"
   ]
  },
  {
   "cell_type": "code",
   "execution_count": 25,
   "metadata": {},
   "outputs": [],
   "source": [
    "df4['cleaned_quit_date'] = df4.quit_date.apply(lambda x:dt.datetime.strptime(x,\"%Y-%m-%d\") if type(x) != float else np.nan)"
   ]
  },
  {
   "cell_type": "code",
   "execution_count": 26,
   "metadata": {},
   "outputs": [
    {
     "name": "stdout",
     "output_type": "stream",
     "text": [
      "<class 'pandas.core.frame.DataFrame'>\n",
      "Int64Index: 24662 entries, 1 to 34701\n",
      "Data columns (total 8 columns):\n",
      "company_id           24662 non-null int64\n",
      "dept                 24662 non-null object\n",
      "seniority            24662 non-null int64\n",
      "salary               24662 non-null float64\n",
      "join_date            24662 non-null object\n",
      "quit_date            13486 non-null object\n",
      "cleaned_join_date    24662 non-null datetime64[ns]\n",
      "cleaned_quit_date    13486 non-null datetime64[ns]\n",
      "dtypes: datetime64[ns](2), float64(1), int64(2), object(3)\n",
      "memory usage: 1.7+ MB\n"
     ]
    }
   ],
   "source": [
    "df4.info()"
   ]
  },
  {
   "cell_type": "code",
   "execution_count": 27,
   "metadata": {},
   "outputs": [],
   "source": [
    "df5 = df4.drop(['join_date','quit_date'], axis = 1)"
   ]
  },
  {
   "cell_type": "code",
   "execution_count": 28,
   "metadata": {},
   "outputs": [],
   "source": [
    "df5['quit'] = df5.cleaned_quit_date.apply(lambda x: 0 if x != x  else 1)"
   ]
  },
  {
   "cell_type": "code",
   "execution_count": 53,
   "metadata": {},
   "outputs": [
    {
     "data": {
      "text/html": [
       "<div>\n",
       "<style scoped>\n",
       "    .dataframe tbody tr th:only-of-type {\n",
       "        vertical-align: middle;\n",
       "    }\n",
       "\n",
       "    .dataframe tbody tr th {\n",
       "        vertical-align: top;\n",
       "    }\n",
       "\n",
       "    .dataframe thead th {\n",
       "        text-align: right;\n",
       "    }\n",
       "</style>\n",
       "<table border=\"1\" class=\"dataframe\">\n",
       "  <thead>\n",
       "    <tr style=\"text-align: right;\">\n",
       "      <th></th>\n",
       "      <th>company_id</th>\n",
       "      <th>dept</th>\n",
       "      <th>seniority</th>\n",
       "      <th>salary</th>\n",
       "      <th>cleaned_join_date</th>\n",
       "      <th>cleaned_quit_date</th>\n",
       "      <th>quit</th>\n",
       "      <th>duration</th>\n",
       "    </tr>\n",
       "  </thead>\n",
       "  <tbody>\n",
       "    <tr>\n",
       "      <th>1</th>\n",
       "      <td>8</td>\n",
       "      <td>design</td>\n",
       "      <td>21</td>\n",
       "      <td>191000.0</td>\n",
       "      <td>2011-05-17</td>\n",
       "      <td>2012-03-16</td>\n",
       "      <td>1</td>\n",
       "      <td>304.0</td>\n",
       "    </tr>\n",
       "    <tr>\n",
       "      <th>2</th>\n",
       "      <td>3</td>\n",
       "      <td>design</td>\n",
       "      <td>9</td>\n",
       "      <td>90000.0</td>\n",
       "      <td>2012-03-26</td>\n",
       "      <td>2015-04-10</td>\n",
       "      <td>1</td>\n",
       "      <td>1110.0</td>\n",
       "    </tr>\n",
       "    <tr>\n",
       "      <th>3</th>\n",
       "      <td>2</td>\n",
       "      <td>engineer</td>\n",
       "      <td>20</td>\n",
       "      <td>298000.0</td>\n",
       "      <td>2013-04-08</td>\n",
       "      <td>2015-01-30</td>\n",
       "      <td>1</td>\n",
       "      <td>662.0</td>\n",
       "    </tr>\n",
       "    <tr>\n",
       "      <th>5</th>\n",
       "      <td>5</td>\n",
       "      <td>marketing</td>\n",
       "      <td>20</td>\n",
       "      <td>180000.0</td>\n",
       "      <td>2014-06-30</td>\n",
       "      <td>NaT</td>\n",
       "      <td>0</td>\n",
       "      <td>NaN</td>\n",
       "    </tr>\n",
       "    <tr>\n",
       "      <th>6</th>\n",
       "      <td>3</td>\n",
       "      <td>customer_service</td>\n",
       "      <td>18</td>\n",
       "      <td>119000.0</td>\n",
       "      <td>2012-07-02</td>\n",
       "      <td>2014-03-28</td>\n",
       "      <td>1</td>\n",
       "      <td>634.0</td>\n",
       "    </tr>\n",
       "  </tbody>\n",
       "</table>\n",
       "</div>"
      ],
      "text/plain": [
       "   company_id              dept  seniority    salary cleaned_join_date  \\\n",
       "1           8            design         21  191000.0        2011-05-17   \n",
       "2           3            design          9   90000.0        2012-03-26   \n",
       "3           2          engineer         20  298000.0        2013-04-08   \n",
       "5           5         marketing         20  180000.0        2014-06-30   \n",
       "6           3  customer_service         18  119000.0        2012-07-02   \n",
       "\n",
       "  cleaned_quit_date  quit  duration  \n",
       "1        2012-03-16     1     304.0  \n",
       "2        2015-04-10     1    1110.0  \n",
       "3        2015-01-30     1     662.0  \n",
       "5               NaT     0       NaN  \n",
       "6        2014-03-28     1     634.0  "
      ]
     },
     "execution_count": 53,
     "metadata": {},
     "output_type": "execute_result"
    }
   ],
   "source": [
    "df5.head()"
   ]
  },
  {
   "cell_type": "markdown",
   "metadata": {},
   "source": [
    "* If stay, I set cleaned_quit_date as 2015-12-13."
   ]
  },
  {
   "cell_type": "code",
   "execution_count": 56,
   "metadata": {},
   "outputs": [],
   "source": [
    "df5.cleaned_quit_date = df5.cleaned_quit_date.apply(lambda x: dt.datetime(2015, 12, 13))"
   ]
  },
  {
   "cell_type": "code",
   "execution_count": 57,
   "metadata": {},
   "outputs": [],
   "source": [
    "df5['duration'] = df5.cleaned_quit_date - df5.cleaned_join_date"
   ]
  },
  {
   "cell_type": "code",
   "execution_count": 58,
   "metadata": {},
   "outputs": [],
   "source": [
    "df5.duration = df5.duration.apply(lambda x: x.days)"
   ]
  },
  {
   "cell_type": "code",
   "execution_count": 60,
   "metadata": {},
   "outputs": [
    {
     "data": {
      "text/html": [
       "<div>\n",
       "<style scoped>\n",
       "    .dataframe tbody tr th:only-of-type {\n",
       "        vertical-align: middle;\n",
       "    }\n",
       "\n",
       "    .dataframe tbody tr th {\n",
       "        vertical-align: top;\n",
       "    }\n",
       "\n",
       "    .dataframe thead th {\n",
       "        text-align: right;\n",
       "    }\n",
       "</style>\n",
       "<table border=\"1\" class=\"dataframe\">\n",
       "  <thead>\n",
       "    <tr style=\"text-align: right;\">\n",
       "      <th></th>\n",
       "      <th>company_id</th>\n",
       "      <th>dept</th>\n",
       "      <th>seniority</th>\n",
       "      <th>salary</th>\n",
       "      <th>cleaned_join_date</th>\n",
       "      <th>cleaned_quit_date</th>\n",
       "      <th>quit</th>\n",
       "      <th>duration</th>\n",
       "    </tr>\n",
       "  </thead>\n",
       "  <tbody>\n",
       "    <tr>\n",
       "      <th>1</th>\n",
       "      <td>8</td>\n",
       "      <td>design</td>\n",
       "      <td>21</td>\n",
       "      <td>191000.0</td>\n",
       "      <td>2011-05-17</td>\n",
       "      <td>2015-12-13</td>\n",
       "      <td>1</td>\n",
       "      <td>1671</td>\n",
       "    </tr>\n",
       "    <tr>\n",
       "      <th>2</th>\n",
       "      <td>3</td>\n",
       "      <td>design</td>\n",
       "      <td>9</td>\n",
       "      <td>90000.0</td>\n",
       "      <td>2012-03-26</td>\n",
       "      <td>2015-12-13</td>\n",
       "      <td>1</td>\n",
       "      <td>1357</td>\n",
       "    </tr>\n",
       "    <tr>\n",
       "      <th>3</th>\n",
       "      <td>2</td>\n",
       "      <td>engineer</td>\n",
       "      <td>20</td>\n",
       "      <td>298000.0</td>\n",
       "      <td>2013-04-08</td>\n",
       "      <td>2015-12-13</td>\n",
       "      <td>1</td>\n",
       "      <td>979</td>\n",
       "    </tr>\n",
       "    <tr>\n",
       "      <th>5</th>\n",
       "      <td>5</td>\n",
       "      <td>marketing</td>\n",
       "      <td>20</td>\n",
       "      <td>180000.0</td>\n",
       "      <td>2014-06-30</td>\n",
       "      <td>2015-12-13</td>\n",
       "      <td>0</td>\n",
       "      <td>531</td>\n",
       "    </tr>\n",
       "    <tr>\n",
       "      <th>6</th>\n",
       "      <td>3</td>\n",
       "      <td>customer_service</td>\n",
       "      <td>18</td>\n",
       "      <td>119000.0</td>\n",
       "      <td>2012-07-02</td>\n",
       "      <td>2015-12-13</td>\n",
       "      <td>1</td>\n",
       "      <td>1259</td>\n",
       "    </tr>\n",
       "  </tbody>\n",
       "</table>\n",
       "</div>"
      ],
      "text/plain": [
       "   company_id              dept  seniority    salary cleaned_join_date  \\\n",
       "1           8            design         21  191000.0        2011-05-17   \n",
       "2           3            design          9   90000.0        2012-03-26   \n",
       "3           2          engineer         20  298000.0        2013-04-08   \n",
       "5           5         marketing         20  180000.0        2014-06-30   \n",
       "6           3  customer_service         18  119000.0        2012-07-02   \n",
       "\n",
       "  cleaned_quit_date  quit  duration  \n",
       "1        2015-12-13     1      1671  \n",
       "2        2015-12-13     1      1357  \n",
       "3        2015-12-13     1       979  \n",
       "5        2015-12-13     0       531  \n",
       "6        2015-12-13     1      1259  "
      ]
     },
     "execution_count": 60,
     "metadata": {},
     "output_type": "execute_result"
    }
   ],
   "source": [
    "df5.head()"
   ]
  },
  {
   "cell_type": "markdown",
   "metadata": {},
   "source": [
    "## 1.6 Check employees' seniority"
   ]
  },
  {
   "cell_type": "code",
   "execution_count": 61,
   "metadata": {},
   "outputs": [
    {
     "data": {
      "text/plain": [
       "8     1007\n",
       "12     987\n",
       "6      950\n",
       "9      941\n",
       "2      940\n",
       "16     935\n",
       "5      934\n",
       "7      928\n",
       "10     925\n",
       "11     923\n",
       "14     919\n",
       "15     911\n",
       "19     909\n",
       "4      893\n",
       "17     892\n",
       "13     892\n",
       "3      876\n",
       "18     870\n",
       "1      859\n",
       "20     841\n",
       "23     783\n",
       "21     781\n",
       "22     763\n",
       "24     743\n",
       "25     713\n",
       "26     693\n",
       "27     642\n",
       "29     626\n",
       "28     584\n",
       "99       1\n",
       "98       1\n",
       "Name: seniority, dtype: int64"
      ]
     },
     "execution_count": 61,
     "metadata": {},
     "output_type": "execute_result"
    }
   ],
   "source": [
    "df5.seniority.value_counts()"
   ]
  },
  {
   "cell_type": "markdown",
   "metadata": {
    "scrolled": true
   },
   "source": [
    "seniority levels that 98 and 99 doesn't look right. Drop them."
   ]
  },
  {
   "cell_type": "code",
   "execution_count": 62,
   "metadata": {},
   "outputs": [],
   "source": [
    "df6 = df5[(df5.seniority != 99) & (df5.seniority != 98)]"
   ]
  },
  {
   "cell_type": "code",
   "execution_count": 63,
   "metadata": {},
   "outputs": [
    {
     "name": "stderr",
     "output_type": "stream",
     "text": [
      "/home/xinda/anaconda3/lib/python3.7/site-packages/ipykernel_launcher.py:1: SettingWithCopyWarning: \n",
      "A value is trying to be set on a copy of a slice from a DataFrame.\n",
      "Try using .loc[row_indexer,col_indexer] = value instead\n",
      "\n",
      "See the caveats in the documentation: http://pandas.pydata.org/pandas-docs/stable/indexing.html#indexing-view-versus-copy\n",
      "  \"\"\"Entry point for launching an IPython kernel.\n"
     ]
    }
   ],
   "source": [
    "df6['salary_seniority'] = (df6.salary / df6.seniority)"
   ]
  },
  {
   "cell_type": "code",
   "execution_count": 64,
   "metadata": {},
   "outputs": [
    {
     "name": "stderr",
     "output_type": "stream",
     "text": [
      "/home/xinda/anaconda3/lib/python3.7/site-packages/pandas/core/generic.py:5096: SettingWithCopyWarning: \n",
      "A value is trying to be set on a copy of a slice from a DataFrame.\n",
      "Try using .loc[row_indexer,col_indexer] = value instead\n",
      "\n",
      "See the caveats in the documentation: http://pandas.pydata.org/pandas-docs/stable/indexing.html#indexing-view-versus-copy\n",
      "  self[name] = value\n"
     ]
    }
   ],
   "source": [
    "df6.salary_seniority = df6.salary_seniority.apply(lambda x: round(x))"
   ]
  },
  {
   "cell_type": "code",
   "execution_count": 65,
   "metadata": {
    "scrolled": true
   },
   "outputs": [
    {
     "data": {
      "text/plain": [
       "['company_id',\n",
       " 'dept',\n",
       " 'seniority',\n",
       " 'salary',\n",
       " 'cleaned_join_date',\n",
       " 'cleaned_quit_date',\n",
       " 'quit',\n",
       " 'duration',\n",
       " 'salary_seniority']"
      ]
     },
     "execution_count": 65,
     "metadata": {},
     "output_type": "execute_result"
    }
   ],
   "source": [
    "df6.columns.values.tolist()"
   ]
  },
  {
   "cell_type": "code",
   "execution_count": 66,
   "metadata": {},
   "outputs": [],
   "source": [
    "def cut_series(series, bin_num, series_max, series_min):\n",
    "    MAX = series_max\n",
    "    MIN = series_min\n",
    "    series_cut = pd.cut(series, bins=[x for x in range(int(MIN), int(MAX), int((MAX-MIN)/bin_num))], include_lowest=True)\n",
    "    series_cut = series_cut.value_counts(sort=False)\n",
    "    return series_cut"
   ]
  },
  {
   "cell_type": "code",
   "execution_count": 67,
   "metadata": {},
   "outputs": [],
   "source": [
    "def plot_overview(df):\n",
    "    df_quit = df[df.quit == 1]\n",
    "    df_stay = df[df.quit == 0]\n",
    "    fig, ax = plt.subplots(1,6, figsize=(20, 6))\n",
    "    plt.subplots_adjust(wspace = 0.3)\n",
    "    ax_num = 0\n",
    "    for i in ['company_id','dept']: # categorical value\n",
    "        df_temp1 = df_quit.groupby(i).count()[['salary']].rename(columns={\"salary\": \"quit\"})\n",
    "        df_temp2 = df_stay.groupby(i).count()[['salary']].rename(columns={\"salary\": \"stay\"})\n",
    "        result = pd.concat([df_temp1, df_temp2], axis=1, join='inner')\n",
    "        result.plot.bar(ax = ax[ax_num])\n",
    "        ax_num += 1\n",
    "    for i in ['seniority','salary','salary_seniority', 'duration']: # numerical value\n",
    "        df_temp1 = cut_series(df_quit[i], 10, df_quit[i].max(), df_quit[i].min()).rename(columns={\"seniority\": \"quit\"})\n",
    "        df_temp2 = cut_series(df_stay[i], 10, df_quit[i].max(), df_quit[i].min()).rename(columns={\"seniority\": \"stay\"})\n",
    "        result = pd.concat([df_temp1, df_temp2], axis=1, join='inner').rename(columns={0: \"quit\", 1:\"stay\" })\n",
    "        result.plot.bar(ax = ax[ax_num])\n",
    "        ax[ax_num].set_xlabel(i)\n",
    "        ax_num += 1"
   ]
  },
  {
   "cell_type": "code",
   "execution_count": 68,
   "metadata": {
    "scrolled": false
   },
   "outputs": [
    {
     "data": {
      "image/png": "[encoded data removed]",
      "text/plain": [
       "<Figure size 1440x432 with 6 Axes>"
      ]
     },
     "metadata": {
      "needs_background": "light"
     },
     "output_type": "display_data"
    }
   ],
   "source": [
    "plot_overview(df6)"
   ]
  },
  {
   "cell_type": "markdown",
   "metadata": {},
   "source": [
    "* Seems only duration matters"
   ]
  },
  {
   "cell_type": "code",
   "execution_count": 69,
   "metadata": {},
   "outputs": [],
   "source": [
    "overview ='''\n",
    "old_version of overall plot\n",
    "def overview(df):\n",
    "    fig, ax = plt.subplots(1,5, figsize=(20, 6))\n",
    "    plt.subplots_adjust(wspace = 0.3)\n",
    "    df.company_id.plot.hist(ax=ax[0], title = 'company_id')\n",
    "    df.groupby(['dept','quit'])[['dept']].count().rename(columns={\"dept\": \"count\"}).sort_values(by = 'count', axis=0, ascending=False).plot(ax=ax[1], kind = 'bar', ylim = (0,8000), title = 'dept')\n",
    "    df.seniority.plot.hist(ax=ax[2], title = 'seniority', ylim = (0,10000), xlim = (0,30))\n",
    "    df.salary.plot.hist(ax=ax[3], title = 'salary', ylim = (0,5000), xlim = (0,400000))\n",
    "    df.groupby(df[\"cleaned_join_date\"].dt.year)[['cleaned_join_date']].count().rename(columns={\"cleaned_join_date\": \"count\"}).sort_values(by = 'count', axis=0, ascending=False).plot(ax=ax[4], kind = 'bar', ylim = (0,5000), title = 'join_date')\n",
    "'''"
   ]
  },
  {
   "cell_type": "markdown",
   "metadata": {},
   "source": [
    "# 2. Classifier"
   ]
  },
  {
   "cell_type": "markdown",
   "metadata": {},
   "source": [
    "* Inspect label balance"
   ]
  },
  {
   "cell_type": "code",
   "execution_count": 70,
   "metadata": {},
   "outputs": [
    {
     "data": {
      "text/plain": [
       "<matplotlib.axes._subplots.AxesSubplot at 0x7efcac6f4978>"
      ]
     },
     "execution_count": 70,
     "metadata": {},
     "output_type": "execute_result"
    },
    {
     "data": {
      "image/png": "[encoded data removed]",
      "text/plain": [
       "<Figure size 432x288 with 1 Axes>"
      ]
     },
     "metadata": {
      "needs_background": "light"
     },
     "output_type": "display_data"
    }
   ],
   "source": [
    "df6.quit.hist()"
   ]
  },
  {
   "cell_type": "markdown",
   "metadata": {},
   "source": [
    "# 2.1 Logistic Regression Classifier"
   ]
  },
  {
   "cell_type": "markdown",
   "metadata": {},
   "source": [
    "* Convert Categorical columns into binary data by one-hot encoding"
   ]
  },
  {
   "cell_type": "code",
   "execution_count": 71,
   "metadata": {},
   "outputs": [],
   "source": [
    "df7 = df6.copy()"
   ]
  },
  {
   "cell_type": "code",
   "execution_count": 72,
   "metadata": {},
   "outputs": [],
   "source": [
    "df7 = pd.get_dummies(df7, columns=['dept'], prefix=['dept'])"
   ]
  },
  {
   "cell_type": "code",
   "execution_count": 73,
   "metadata": {},
   "outputs": [
    {
     "data": {
      "text/html": [
       "<div>\n",
       "<style scoped>\n",
       "    .dataframe tbody tr th:only-of-type {\n",
       "        vertical-align: middle;\n",
       "    }\n",
       "\n",
       "    .dataframe tbody tr th {\n",
       "        vertical-align: top;\n",
       "    }\n",
       "\n",
       "    .dataframe thead th {\n",
       "        text-align: right;\n",
       "    }\n",
       "</style>\n",
       "<table border=\"1\" class=\"dataframe\">\n",
       "  <thead>\n",
       "    <tr style=\"text-align: right;\">\n",
       "      <th></th>\n",
       "      <th>company_id</th>\n",
       "      <th>seniority</th>\n",
       "      <th>salary</th>\n",
       "      <th>cleaned_join_date</th>\n",
       "      <th>cleaned_quit_date</th>\n",
       "      <th>quit</th>\n",
       "      <th>duration</th>\n",
       "      <th>salary_seniority</th>\n",
       "      <th>dept_customer_service</th>\n",
       "      <th>dept_data_science</th>\n",
       "      <th>dept_design</th>\n",
       "      <th>dept_engineer</th>\n",
       "      <th>dept_marketing</th>\n",
       "      <th>dept_sales</th>\n",
       "    </tr>\n",
       "  </thead>\n",
       "  <tbody>\n",
       "    <tr>\n",
       "      <th>1</th>\n",
       "      <td>8</td>\n",
       "      <td>21</td>\n",
       "      <td>191000.0</td>\n",
       "      <td>2011-05-17</td>\n",
       "      <td>2015-12-13</td>\n",
       "      <td>1</td>\n",
       "      <td>1671</td>\n",
       "      <td>9095</td>\n",
       "      <td>0</td>\n",
       "      <td>0</td>\n",
       "      <td>1</td>\n",
       "      <td>0</td>\n",
       "      <td>0</td>\n",
       "      <td>0</td>\n",
       "    </tr>\n",
       "    <tr>\n",
       "      <th>2</th>\n",
       "      <td>3</td>\n",
       "      <td>9</td>\n",
       "      <td>90000.0</td>\n",
       "      <td>2012-03-26</td>\n",
       "      <td>2015-12-13</td>\n",
       "      <td>1</td>\n",
       "      <td>1357</td>\n",
       "      <td>10000</td>\n",
       "      <td>0</td>\n",
       "      <td>0</td>\n",
       "      <td>1</td>\n",
       "      <td>0</td>\n",
       "      <td>0</td>\n",
       "      <td>0</td>\n",
       "    </tr>\n",
       "    <tr>\n",
       "      <th>3</th>\n",
       "      <td>2</td>\n",
       "      <td>20</td>\n",
       "      <td>298000.0</td>\n",
       "      <td>2013-04-08</td>\n",
       "      <td>2015-12-13</td>\n",
       "      <td>1</td>\n",
       "      <td>979</td>\n",
       "      <td>14900</td>\n",
       "      <td>0</td>\n",
       "      <td>0</td>\n",
       "      <td>0</td>\n",
       "      <td>1</td>\n",
       "      <td>0</td>\n",
       "      <td>0</td>\n",
       "    </tr>\n",
       "    <tr>\n",
       "      <th>5</th>\n",
       "      <td>5</td>\n",
       "      <td>20</td>\n",
       "      <td>180000.0</td>\n",
       "      <td>2014-06-30</td>\n",
       "      <td>2015-12-13</td>\n",
       "      <td>0</td>\n",
       "      <td>531</td>\n",
       "      <td>9000</td>\n",
       "      <td>0</td>\n",
       "      <td>0</td>\n",
       "      <td>0</td>\n",
       "      <td>0</td>\n",
       "      <td>1</td>\n",
       "      <td>0</td>\n",
       "    </tr>\n",
       "    <tr>\n",
       "      <th>6</th>\n",
       "      <td>3</td>\n",
       "      <td>18</td>\n",
       "      <td>119000.0</td>\n",
       "      <td>2012-07-02</td>\n",
       "      <td>2015-12-13</td>\n",
       "      <td>1</td>\n",
       "      <td>1259</td>\n",
       "      <td>6611</td>\n",
       "      <td>1</td>\n",
       "      <td>0</td>\n",
       "      <td>0</td>\n",
       "      <td>0</td>\n",
       "      <td>0</td>\n",
       "      <td>0</td>\n",
       "    </tr>\n",
       "  </tbody>\n",
       "</table>\n",
       "</div>"
      ],
      "text/plain": [
       "   company_id  seniority    salary cleaned_join_date cleaned_quit_date  quit  \\\n",
       "1           8         21  191000.0        2011-05-17        2015-12-13     1   \n",
       "2           3          9   90000.0        2012-03-26        2015-12-13     1   \n",
       "3           2         20  298000.0        2013-04-08        2015-12-13     1   \n",
       "5           5         20  180000.0        2014-06-30        2015-12-13     0   \n",
       "6           3         18  119000.0        2012-07-02        2015-12-13     1   \n",
       "\n",
       "   duration  salary_seniority  dept_customer_service  dept_data_science  \\\n",
       "1      1671              9095                      0                  0   \n",
       "2      1357             10000                      0                  0   \n",
       "3       979             14900                      0                  0   \n",
       "5       531              9000                      0                  0   \n",
       "6      1259              6611                      1                  0   \n",
       "\n",
       "   dept_design  dept_engineer  dept_marketing  dept_sales  \n",
       "1            1              0               0           0  \n",
       "2            1              0               0           0  \n",
       "3            0              1               0           0  \n",
       "5            0              0               1           0  \n",
       "6            0              0               0           0  "
      ]
     },
     "execution_count": 73,
     "metadata": {},
     "output_type": "execute_result"
    }
   ],
   "source": [
    "df7.head()"
   ]
  },
  {
   "cell_type": "code",
   "execution_count": 74,
   "metadata": {},
   "outputs": [],
   "source": [
    "from sklearn.model_selection import GridSearchCV, train_test_split\n",
    "from sklearn.metrics import confusion_matrix, classification_report, roc_curve\n",
    "from sklearn.linear_model import LogisticRegression"
   ]
  },
  {
   "cell_type": "code",
   "execution_count": 76,
   "metadata": {},
   "outputs": [],
   "source": [
    "X = df7[['seniority',\n",
    "         'salary', \n",
    "         'duration',\n",
    "         'salary_seniority',\n",
    "         'dept_customer_service',\n",
    "         'dept_data_science',           \n",
    "         'dept_design',\n",
    "         'dept_engineer',\n",
    "         'dept_marketing',\n",
    "         'dept_sales']]"
   ]
  },
  {
   "cell_type": "code",
   "execution_count": 77,
   "metadata": {},
   "outputs": [],
   "source": [
    "y = df7['quit']"
   ]
  },
  {
   "cell_type": "code",
   "execution_count": 78,
   "metadata": {},
   "outputs": [],
   "source": [
    "X_train, X_test, y_train, y_test = train_test_split(X, y, test_size= 0.2, random_state=42, stratify=y)"
   ]
  },
  {
   "cell_type": "code",
   "execution_count": 75,
   "metadata": {},
   "outputs": [],
   "source": [
    "lr = LogisticRegression(solver='lbfgs', random_state=42)"
   ]
  },
  {
   "cell_type": "code",
   "execution_count": 79,
   "metadata": {},
   "outputs": [
    {
     "data": {
      "text/plain": [
       "LogisticRegression(C=1.0, class_weight=None, dual=False, fit_intercept=True,\n",
       "          intercept_scaling=1, max_iter=100, multi_class='warn',\n",
       "          n_jobs=None, penalty='l2', random_state=42, solver='lbfgs',\n",
       "          tol=0.0001, verbose=0, warm_start=False)"
      ]
     },
     "execution_count": 79,
     "metadata": {},
     "output_type": "execute_result"
    }
   ],
   "source": [
    "lr.fit(X_train, y_train)"
   ]
  },
  {
   "cell_type": "code",
   "execution_count": 81,
   "metadata": {},
   "outputs": [
    {
     "data": {
      "text/html": [
       "<div>\n",
       "<style scoped>\n",
       "    .dataframe tbody tr th:only-of-type {\n",
       "        vertical-align: middle;\n",
       "    }\n",
       "\n",
       "    .dataframe tbody tr th {\n",
       "        vertical-align: top;\n",
       "    }\n",
       "\n",
       "    .dataframe thead th {\n",
       "        text-align: right;\n",
       "    }\n",
       "</style>\n",
       "<table border=\"1\" class=\"dataframe\">\n",
       "  <thead>\n",
       "    <tr style=\"text-align: right;\">\n",
       "      <th></th>\n",
       "      <th>seniority</th>\n",
       "      <th>salary</th>\n",
       "      <th>duration</th>\n",
       "      <th>salary_seniority</th>\n",
       "      <th>dept_customer_service</th>\n",
       "      <th>dept_data_science</th>\n",
       "      <th>dept_design</th>\n",
       "      <th>dept_engineer</th>\n",
       "      <th>dept_marketing</th>\n",
       "      <th>dept_sales</th>\n",
       "    </tr>\n",
       "  </thead>\n",
       "  <tbody>\n",
       "    <tr>\n",
       "      <th>0</th>\n",
       "      <td>-0.084643</td>\n",
       "      <td>-8.041191e-07</td>\n",
       "      <td>0.003051</td>\n",
       "      <td>-0.000073</td>\n",
       "      <td>-0.009076</td>\n",
       "      <td>0.001377</td>\n",
       "      <td>-0.000375</td>\n",
       "      <td>0.001769</td>\n",
       "      <td>-0.000771</td>\n",
       "      <td>-0.000684</td>\n",
       "    </tr>\n",
       "  </tbody>\n",
       "</table>\n",
       "</div>"
      ],
      "text/plain": [
       "   seniority        salary  duration  salary_seniority  dept_customer_service  \\\n",
       "0  -0.084643 -8.041191e-07  0.003051         -0.000073              -0.009076   \n",
       "\n",
       "   dept_data_science  dept_design  dept_engineer  dept_marketing  dept_sales  \n",
       "0           0.001377    -0.000375       0.001769       -0.000771   -0.000684  "
      ]
     },
     "execution_count": 81,
     "metadata": {},
     "output_type": "execute_result"
    }
   ],
   "source": [
    "log_model = pd.DataFrame(lr.coef_,columns=X.columns)\n",
    "log_model"
   ]
  },
  {
   "cell_type": "code",
   "execution_count": 84,
   "metadata": {},
   "outputs": [],
   "source": [
    "y_pred_lr = lr.predict(X_test)\n",
    "y_score_lr = lr.predict_proba(X_test)[:,1]"
   ]
  },
  {
   "cell_type": "code",
   "execution_count": 86,
   "metadata": {},
   "outputs": [
    {
     "data": {
      "image/png": "[encoded data removed]",
      "text/plain": [
       "<Figure size 432x360 with 2 Axes>"
      ]
     },
     "metadata": {
      "needs_background": "light"
     },
     "output_type": "display_data"
    }
   ],
   "source": [
    "import seaborn as sns\n",
    "lr_cm = confusion_matrix(y_test, y_pred_lr, labels=[1, 0])\n",
    "\n",
    "f, ax = plt.subplots(figsize=(6, 5))\n",
    "sns.heatmap(lr_cm, annot=True, fmt='d', linewidths=.5, ax=ax, xticklabels=[1,0], yticklabels=[1, 0], annot_kws={'size':16},cmap=plt.cm.Blues)\n",
    "ax.set_xlabel('Predicted labels')\n",
    "ax.set_ylabel('True labels')\n",
    "ax.set_title('Confusion Matrix for Logistic Regression')\n",
    "plt.show()"
   ]
  },
  {
   "cell_type": "code",
   "execution_count": 87,
   "metadata": {},
   "outputs": [
    {
     "name": "stdout",
     "output_type": "stream",
     "text": [
      "              precision    recall  f1-score   support\n",
      "\n",
      "           0       0.80      0.72      0.75      2235\n",
      "           1       0.78      0.85      0.81      2697\n",
      "\n",
      "   micro avg       0.79      0.79      0.79      4932\n",
      "   macro avg       0.79      0.78      0.78      4932\n",
      "weighted avg       0.79      0.79      0.79      4932\n",
      "\n"
     ]
    }
   ],
   "source": [
    "print(classification_report(y_test, y_pred_lr))"
   ]
  },
  {
   "cell_type": "code",
   "execution_count": 89,
   "metadata": {},
   "outputs": [],
   "source": [
    "fpr_lr,tpr_lr,thresholds_lr = roc_curve(y_test,y_score_lr)"
   ]
  },
  {
   "cell_type": "code",
   "execution_count": 90,
   "metadata": {},
   "outputs": [
    {
     "data": {
      "image/png": "[encoded data removed]",
      "text/plain": [
       "<Figure size 432x288 with 1 Axes>"
      ]
     },
     "metadata": {
      "needs_background": "light"
     },
     "output_type": "display_data"
    }
   ],
   "source": [
    "plt.plot(fpr_lr,tpr_lr,color='darkorange',lw=2)\n",
    "plt.plot([0, 1], [0, 1], color='navy', lw=2, linestyle='--')\n",
    "plt.xlim(0,1)\n",
    "plt.ylim(0,1)\n",
    "plt.title('ROC Curve of Logistic Regression')\n",
    "plt.xlabel('False Positive Rate')\n",
    "plt.ylabel('True Positive Rate')\n",
    "plt.show()"
   ]
  },
  {
   "cell_type": "markdown",
   "metadata": {},
   "source": [
    "# 2.2 Random Forest Classifier"
   ]
  },
  {
   "cell_type": "markdown",
   "metadata": {},
   "source": [
    "* Bulid a tree based methods which will provide good explainibility on feature importance"
   ]
  },
  {
   "cell_type": "code",
   "execution_count": 91,
   "metadata": {},
   "outputs": [],
   "source": [
    "from sklearn.ensemble import RandomForestClassifier"
   ]
  },
  {
   "cell_type": "code",
   "execution_count": 92,
   "metadata": {},
   "outputs": [],
   "source": [
    "parameters = {'n_estimators': [50, 100, 200],\n",
    "              'max_depth': [3, 6]\n",
    "              }\n",
    "rf_estimator = RandomForestClassifier(random_state=42)\n",
    "\n",
    "clf = GridSearchCV(rf_estimator, param_grid=parameters,\n",
    "                   scoring='accuracy', cv=5)"
   ]
  },
  {
   "cell_type": "code",
   "execution_count": 93,
   "metadata": {},
   "outputs": [
    {
     "data": {
      "text/plain": [
       "GridSearchCV(cv=5, error_score='raise-deprecating',\n",
       "       estimator=RandomForestClassifier(bootstrap=True, class_weight=None, criterion='gini',\n",
       "            max_depth=None, max_features='auto', max_leaf_nodes=None,\n",
       "            min_impurity_decrease=0.0, min_impurity_split=None,\n",
       "            min_samples_leaf=1, min_samples_split=2,\n",
       "            min_weight_fraction_leaf=0.0, n_estimators='warn', n_jobs=None,\n",
       "            oob_score=False, random_state=42, verbose=0, warm_start=False),\n",
       "       fit_params=None, iid='warn', n_jobs=None,\n",
       "       param_grid={'n_estimators': [50, 100, 200], 'max_depth': [3, 6]},\n",
       "       pre_dispatch='2*n_jobs', refit=True, return_train_score='warn',\n",
       "       scoring='accuracy', verbose=0)"
      ]
     },
     "execution_count": 93,
     "metadata": {},
     "output_type": "execute_result"
    }
   ],
   "source": [
    "clf.fit(X_train, y_train)"
   ]
  },
  {
   "cell_type": "code",
   "execution_count": 94,
   "metadata": {},
   "outputs": [],
   "source": [
    "rf = clf.best_estimator_"
   ]
  },
  {
   "cell_type": "code",
   "execution_count": 95,
   "metadata": {},
   "outputs": [
    {
     "data": {
      "image/png": "[encoded data removed]",
      "text/plain": [
       "<Figure size 576x360 with 1 Axes>"
      ]
     },
     "metadata": {
      "needs_background": "light"
     },
     "output_type": "display_data"
    }
   ],
   "source": [
    "ax = plt.figure(figsize=[8, 5])\n",
    "plt.barh(X.columns.values, rf.feature_importances_)\n",
    "plt.title('Feature Importance for Random Forest')\n",
    "plt.show()"
   ]
  },
  {
   "cell_type": "code",
   "execution_count": 96,
   "metadata": {},
   "outputs": [],
   "source": [
    "y_pred_rf = rf.predict(X_test)\n",
    "y_score_rf = rf.predict_proba(X_test)[:,1]"
   ]
  },
  {
   "cell_type": "code",
   "execution_count": 98,
   "metadata": {},
   "outputs": [
    {
     "data": {
      "image/png": "[encoded data removed]",
      "text/plain": [
       "<Figure size 432x360 with 2 Axes>"
      ]
     },
     "metadata": {
      "needs_background": "light"
     },
     "output_type": "display_data"
    }
   ],
   "source": [
    "rf_cm = confusion_matrix(y_test, y_pred_rf, labels=[1, 0])\n",
    "\n",
    "f, ax = plt.subplots(figsize=(6, 5))\n",
    "sns.heatmap(rf_cm, annot=True, fmt='d', linewidths=.5, ax=ax, xticklabels=[\n",
    "            1,0], yticklabels=[1, 0], annot_kws={'size':16},cmap=plt.cm.Blues)\n",
    "ax.set_xlabel('Predicted labels')\n",
    "ax.set_ylabel('True labels')\n",
    "ax.set_title('Confusion Matrix for Random Forest')\n",
    "plt.show()"
   ]
  },
  {
   "cell_type": "code",
   "execution_count": 99,
   "metadata": {},
   "outputs": [
    {
     "name": "stdout",
     "output_type": "stream",
     "text": [
      "              precision    recall  f1-score   support\n",
      "\n",
      "           0       0.81      0.74      0.77      2235\n",
      "           1       0.80      0.85      0.82      2697\n",
      "\n",
      "   micro avg       0.80      0.80      0.80      4932\n",
      "   macro avg       0.80      0.80      0.80      4932\n",
      "weighted avg       0.80      0.80      0.80      4932\n",
      "\n"
     ]
    }
   ],
   "source": [
    "print(classification_report(y_test, y_pred_rf))"
   ]
  },
  {
   "cell_type": "code",
   "execution_count": 100,
   "metadata": {},
   "outputs": [],
   "source": [
    "fpr_rf,tpr_rf,thresholds_rf = roc_curve(y_test,y_score_rf)"
   ]
  },
  {
   "cell_type": "code",
   "execution_count": 101,
   "metadata": {},
   "outputs": [
    {
     "data": {
      "image/png": "[encoded data removed]",
      "text/plain": [
       "<Figure size 432x288 with 1 Axes>"
      ]
     },
     "metadata": {
      "needs_background": "light"
     },
     "output_type": "display_data"
    }
   ],
   "source": [
    "plt.plot(fpr_rf,tpr_rf,color='darkorange',lw=2)\n",
    "plt.plot([0, 1], [0, 1], color='navy', lw=2, linestyle='--')\n",
    "plt.xlim(0,1)\n",
    "plt.ylim(0,1)\n",
    "plt.title('ROC Curve of Random Forest')\n",
    "plt.xlabel('False Positive Rate')\n",
    "plt.ylabel('True Positive Rate')\n",
    "plt.show()"
   ]
  },
  {
   "cell_type": "markdown",
   "metadata": {},
   "source": [
    "# 2.3 XGBoost based classifier"
   ]
  },
  {
   "cell_type": "markdown",
   "metadata": {},
   "source": [
    "* Imporive the performance using boosted trees. https://www.kaggle.com/stuarthallows/using-xgboost-with-scikit-learn"
   ]
  },
  {
   "cell_type": "code",
   "execution_count": 103,
   "metadata": {},
   "outputs": [],
   "source": [
    "import xgboost as xgb"
   ]
  },
  {
   "cell_type": "code",
   "execution_count": 104,
   "metadata": {},
   "outputs": [],
   "source": [
    "param = {'n_estimators': [50, 100, 200],\n",
    "         'max_depth': [3,5],\n",
    "         'learning_rate': [0.01, 0.1]\n",
    "         }\n",
    "\n",
    "xgb_model = xgb.XGBClassifier(random_state=42)\n",
    "\n",
    "xgb_clf = GridSearchCV(xgb_model, param_grid=param, scoring='accuracy', cv=5)"
   ]
  },
  {
   "cell_type": "code",
   "execution_count": 105,
   "metadata": {},
   "outputs": [
    {
     "data": {
      "text/plain": [
       "GridSearchCV(cv=5, error_score='raise-deprecating',\n",
       "       estimator=XGBClassifier(base_score=0.5, booster='gbtree', colsample_bylevel=1,\n",
       "       colsample_bynode=1, colsample_bytree=1, gamma=0, learning_rate=0.1,\n",
       "       max_delta_step=0, max_depth=3, min_child_weight=1, missing=None,\n",
       "       n_estimators=100, n_jobs=1, nthread=None,\n",
       "       objective='binary:logistic', random_state=42, reg_alpha=0,\n",
       "       reg_lambda=1, scale_pos_weight=1, seed=None, silent=None,\n",
       "       subsample=1, verbosity=1),\n",
       "       fit_params=None, iid='warn', n_jobs=None,\n",
       "       param_grid={'n_estimators': [50, 100, 200], 'max_depth': [3, 5], 'learning_rate': [0.01, 0.1]},\n",
       "       pre_dispatch='2*n_jobs', refit=True, return_train_score='warn',\n",
       "       scoring='accuracy', verbose=0)"
      ]
     },
     "execution_count": 105,
     "metadata": {},
     "output_type": "execute_result"
    }
   ],
   "source": [
    "xgb_clf.fit(X_train, y_train)"
   ]
  },
  {
   "cell_type": "code",
   "execution_count": 106,
   "metadata": {},
   "outputs": [
    {
     "data": {
      "text/plain": [
       "XGBClassifier(base_score=0.5, booster='gbtree', colsample_bylevel=1,\n",
       "       colsample_bynode=1, colsample_bytree=1, gamma=0, learning_rate=0.1,\n",
       "       max_delta_step=0, max_depth=3, min_child_weight=1, missing=None,\n",
       "       n_estimators=100, n_jobs=1, nthread=None,\n",
       "       objective='binary:logistic', random_state=42, reg_alpha=0,\n",
       "       reg_lambda=1, scale_pos_weight=1, seed=None, silent=None,\n",
       "       subsample=1, verbosity=1)"
      ]
     },
     "execution_count": 106,
     "metadata": {},
     "output_type": "execute_result"
    }
   ],
   "source": [
    "xgb_clf.best_estimator_"
   ]
  },
  {
   "cell_type": "code",
   "execution_count": 107,
   "metadata": {},
   "outputs": [],
   "source": [
    "best_xgb = xgb_clf.best_estimator_"
   ]
  },
  {
   "cell_type": "code",
   "execution_count": 108,
   "metadata": {},
   "outputs": [
    {
     "data": {
      "image/png": "[encoded data removed]",
      "text/plain": [
       "<Figure size 720x360 with 1 Axes>"
      ]
     },
     "metadata": {
      "needs_background": "light"
     },
     "output_type": "display_data"
    }
   ],
   "source": [
    "ax = plt.figure(figsize=[10, 5])\n",
    "plt.barh(X.columns.values, best_xgb.feature_importances_)\n",
    "plt.show()"
   ]
  },
  {
   "cell_type": "code",
   "execution_count": 109,
   "metadata": {},
   "outputs": [],
   "source": [
    "y_pred_xgb = best_xgb.predict(X_test)\n",
    "y_score_xgb = best_xgb.predict_proba(X_test)[:,1]"
   ]
  },
  {
   "cell_type": "code",
   "execution_count": 110,
   "metadata": {},
   "outputs": [
    {
     "data": {
      "image/png": "[encoded data removed]",
      "text/plain": [
       "<Figure size 432x360 with 2 Axes>"
      ]
     },
     "metadata": {
      "needs_background": "light"
     },
     "output_type": "display_data"
    }
   ],
   "source": [
    "xgb_cm = confusion_matrix(y_test, y_pred_xgb, labels=[1, 0])\n",
    "\n",
    "f, ax = plt.subplots(figsize=(6, 5))\n",
    "sns.heatmap(xgb_cm, annot=True, fmt='d', linewidths=.5, ax=ax, xticklabels=[\n",
    "            1,0], yticklabels=[1, 0], annot_kws={'size':16},cmap=plt.cm.Blues)\n",
    "ax.set_xlabel('Predicted labels')\n",
    "ax.set_ylabel('True labels')\n",
    "ax.set_title('Confusion Matrix for XGBoost')\n",
    "plt.show()"
   ]
  },
  {
   "cell_type": "code",
   "execution_count": 111,
   "metadata": {},
   "outputs": [
    {
     "name": "stdout",
     "output_type": "stream",
     "text": [
      "              precision    recall  f1-score   support\n",
      "\n",
      "           0       0.80      0.74      0.77      2235\n",
      "           1       0.80      0.85      0.82      2697\n",
      "\n",
      "   micro avg       0.80      0.80      0.80      4932\n",
      "   macro avg       0.80      0.80      0.80      4932\n",
      "weighted avg       0.80      0.80      0.80      4932\n",
      "\n"
     ]
    }
   ],
   "source": [
    "print(classification_report(y_test, y_pred_xgb))"
   ]
  },
  {
   "cell_type": "code",
   "execution_count": 112,
   "metadata": {},
   "outputs": [],
   "source": [
    "fpr_xgb,tpr_xgb,thresholds_xgb = roc_curve(y_test,y_score_xgb,drop_intermediate=True)"
   ]
  },
  {
   "cell_type": "code",
   "execution_count": 113,
   "metadata": {},
   "outputs": [
    {
     "data": {
      "image/png": "[encoded data removed]",
      "text/plain": [
       "<Figure size 432x288 with 1 Axes>"
      ]
     },
     "metadata": {
      "needs_background": "light"
     },
     "output_type": "display_data"
    }
   ],
   "source": [
    "plt.plot(fpr_xgb,tpr_xgb,color='darkorange',lw=2)\n",
    "plt.plot([0, 1], [0, 1], color='navy', lw=2, linestyle='--')\n",
    "plt.xlim(0,1)\n",
    "plt.ylim(0,1)\n",
    "plt.title('ROC Curve of XGBoost')\n",
    "plt.xlabel('False Positive Rate')\n",
    "plt.ylabel('True Positive Rate')\n",
    "plt.show()"
   ]
  },
  {
   "cell_type": "code",
   "execution_count": 118,
   "metadata": {},
   "outputs": [
    {
     "data": {
      "text/plain": [
       "<Figure size 720x360 with 0 Axes>"
      ]
     },
     "metadata": {},
     "output_type": "display_data"
    },
    {
     "data": {
      "image/png": "[encoded data removed]",
      "text/plain": [
       "<Figure size 432x288 with 1 Axes>"
      ]
     },
     "metadata": {
      "needs_background": "light"
     },
     "output_type": "display_data"
    }
   ],
   "source": [
    "ax = plt.figure(figsize=[10, 5])\n",
    "xgb.plot_importance(best_xgb,importance_type='weight',grid=False)\n",
    "plt.show()"
   ]
  },
  {
   "cell_type": "markdown",
   "metadata": {},
   "source": [
    "# 3. Post-predictive analytics"
   ]
  },
  {
   "cell_type": "markdown",
   "metadata": {},
   "source": [
    "* Duration is the most important feature used in the classifiers."
   ]
  },
  {
   "cell_type": "code",
   "execution_count": 126,
   "metadata": {},
   "outputs": [],
   "source": [
    "df_quit = df7[df7.quit == 1]\n",
    "df_stay = df7[df7.quit == 0]"
   ]
  },
  {
   "cell_type": "code",
   "execution_count": 127,
   "metadata": {},
   "outputs": [
    {
     "data": {
      "image/png": "[encoded data removed]",
      "text/plain": [
       "<Figure size 432x288 with 1 Axes>"
      ]
     },
     "metadata": {
      "needs_background": "light"
     },
     "output_type": "display_data"
    }
   ],
   "source": [
    "sns.distplot(df_quit.duration/365)\n",
    "sns.distplot(df_stay.duration/365)\n",
    "plt.legend(['quit','stay'])\n",
    "plt.xlim(0,)\n",
    "plt.xlabel('Duration of Employment (years)')\n",
    "plt.show()"
   ]
  },
  {
   "cell_type": "code",
   "execution_count": 129,
   "metadata": {},
   "outputs": [
    {
     "data": {
      "image/png": "[encoded data removed]",
      "text/plain": [
       "<Figure size 432x288 with 1 Axes>"
      ]
     },
     "metadata": {
      "needs_background": "light"
     },
     "output_type": "display_data"
    }
   ],
   "source": [
    "sns.distplot(df_quit.salary/1000)\n",
    "sns.distplot(df_stay.salary/1000)\n",
    "plt.legend(['quit','stay'])\n",
    "plt.xlim(0,)\n",
    "plt.xlabel('Salary ($ thousands)')\n",
    "plt.show()"
   ]
  },
  {
   "cell_type": "markdown",
   "metadata": {},
   "source": [
    "* salary, does not seem to be very different between classes. Let's see if we can confirm that understanding with a statistical test."
   ]
  },
  {
   "cell_type": "code",
   "execution_count": 131,
   "metadata": {},
   "outputs": [
    {
     "data": {
      "text/plain": [
       "3.815349813862667e-09"
      ]
     },
     "execution_count": 131,
     "metadata": {},
     "output_type": "execute_result"
    }
   ],
   "source": [
    "from scipy import stats\n",
    "_,pvalue = stats.ttest_ind(df_quit.salary,df_stay.salary)\n",
    "1-(1-pvalue/2)"
   ]
  },
  {
   "cell_type": "markdown",
   "metadata": {},
   "source": [
    "Given the p-value above, there is a significant difference between the salary of whom stay and quit. Those quitted has higher salary."
   ]
  },
  {
   "cell_type": "code",
   "execution_count": null,
   "metadata": {},
   "outputs": [],
   "source": []
  }
 ],
 "metadata": {
  "kernelspec": {
   "display_name": "Python 3",
   "language": "python",
   "name": "python3"
  },
  "language_info": {
   "codemirror_mode": {
    "name": "ipython",
    "version": 3
   },
   "file_extension": ".py",
   "mimetype": "text/x-python",
   "name": "python",
   "nbconvert_exporter": "python",
   "pygments_lexer": "ipython3",
   "version": "3.7.3"
  }
 },
 "nbformat": 4,
 "nbformat_minor": 2
}
